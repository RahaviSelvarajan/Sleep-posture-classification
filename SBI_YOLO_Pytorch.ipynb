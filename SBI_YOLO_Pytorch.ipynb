{
  "cells": [
    {
      "cell_type": "markdown",
      "metadata": {
        "id": "view-in-github",
        "colab_type": "text"
      },
      "source": [
        "<a href=\"https://colab.research.google.com/github/RahaviSelvarajan/yolov5_colab/blob/main/SBI_YOLO_Pytorch.ipynb\" target=\"_parent\"><img src=\"https://colab.research.google.com/assets/colab-badge.svg\" alt=\"Open In Colab\"/></a>"
      ]
    },
    {
      "cell_type": "code",
      "execution_count": null,
      "metadata": {
        "id": "upfPG7PdDd4T"
      },
      "outputs": [],
      "source": [
        "!nvidia-smi"
      ]
    },
    {
      "cell_type": "code",
      "execution_count": null,
      "metadata": {
        "id": "Q3nvEOAwNemS"
      },
      "outputs": [],
      "source": [
        "!python --version"
      ]
    },
    {
      "cell_type": "markdown",
      "metadata": {
        "id": "Kiix8a9fbpxX"
      },
      "source": [
        "##***Mount Google Drive***"
      ]
    },
    {
      "cell_type": "code",
      "execution_count": null,
      "metadata": {
        "id": "vfuCLTVIYuAY",
        "colab": {
          "base_uri": "https://localhost:8080/"
        },
        "outputId": "613a4530-ef93-44fc-9449-63c78c71a5bd"
      },
      "outputs": [
        {
          "output_type": "stream",
          "name": "stdout",
          "text": [
            "Drive already mounted at /content/drive; to attempt to forcibly remount, call drive.mount(\"/content/drive\", force_remount=True).\n"
          ]
        }
      ],
      "source": [
        "from google.colab import drive\n",
        "drive.mount('/content/drive')"
      ]
    },
    {
      "cell_type": "markdown",
      "metadata": {
        "id": "J5dv5417cFp1"
      },
      "source": [
        "##***Mount Onedrive to get the dataset***"
      ]
    },
    {
      "cell_type": "code",
      "execution_count": null,
      "metadata": {
        "id": "2EM5DnPkcFB8"
      },
      "outputs": [],
      "source": [
        "!wget https://downloads.rclone.org/v1.57.0/rclone-v1.57.0-linux-amd64.deb\n",
        "!apt install ./rclone-v1.57.0-linux-amd64.deb"
      ]
    },
    {
      "cell_type": "code",
      "execution_count": null,
      "metadata": {
        "id": "PMBTCvAKcPPL"
      },
      "outputs": [],
      "source": [
        "!rclone config"
      ]
    },
    {
      "cell_type": "code",
      "execution_count": null,
      "metadata": {
        "id": "Xf0aoeTVcfTo"
      },
      "outputs": [],
      "source": [
        "!sudo mkdir /content/onedrive\n",
        "!nohup rclone --vfs-cache-mode writes mount onedrive: /content/onedrive &"
      ]
    },
    {
      "cell_type": "markdown",
      "metadata": {
        "id": "EiRqJorAD1Ma"
      },
      "source": [
        "**Run the below cell only when onedrive gets disconnected in the middle of training and mount it again using the above command.**"
      ]
    },
    {
      "cell_type": "code",
      "execution_count": null,
      "metadata": {
        "id": "09xNa74Q_L6c"
      },
      "outputs": [],
      "source": [
        "!fusermount -u /content/onedrive"
      ]
    },
    {
      "cell_type": "markdown",
      "metadata": {
        "id": "31n3wlf6fRht"
      },
      "source": [
        "##***Git Clone YOLOv5-Pytorch model***"
      ]
    },
    {
      "cell_type": "code",
      "execution_count": null,
      "metadata": {
        "colab": {
          "base_uri": "https://localhost:8080/"
        },
        "id": "8nVfb7jceYS-",
        "outputId": "9f552aac-21a6-4cc0-b398-aebbd04eb483"
      },
      "outputs": [
        {
          "output_type": "stream",
          "name": "stdout",
          "text": [
            "Cloning into 'yolov5'...\n",
            "remote: Enumerating objects: 12388, done.\u001b[K\n",
            "remote: Counting objects: 100% (8/8), done.\u001b[K\n",
            "remote: Compressing objects: 100% (8/8), done.\u001b[K\n",
            "remote: Total 12388 (delta 1), reused 4 (delta 0), pack-reused 12380\u001b[K\n",
            "Receiving objects: 100% (12388/12388), 12.18 MiB | 33.25 MiB/s, done.\n",
            "Resolving deltas: 100% (8544/8544), done.\n"
          ]
        }
      ],
      "source": [
        "!git clone https://github.com/ultralytics/yolov5"
      ]
    },
    {
      "cell_type": "markdown",
      "metadata": {
        "id": "fdclKfpTfjny"
      },
      "source": [
        "Install the required python packages"
      ]
    },
    {
      "cell_type": "code",
      "execution_count": null,
      "metadata": {
        "id": "nOL77mC1ffYh",
        "colab": {
          "base_uri": "https://localhost:8080/"
        },
        "outputId": "a90c78a8-1b3c-4a2d-8cd8-d9a1e20a87fc"
      },
      "outputs": [
        {
          "output_type": "stream",
          "name": "stdout",
          "text": [
            "/content/yolov5\n",
            "Looking in indexes: https://pypi.org/simple, https://us-python.pkg.dev/colab-wheels/public/simple/\n",
            "Requirement already satisfied: matplotlib>=3.2.2 in /usr/local/lib/python3.7/dist-packages (from -r requirements.txt (line 5)) (3.2.2)\n",
            "Requirement already satisfied: numpy>=1.18.5 in /usr/local/lib/python3.7/dist-packages (from -r requirements.txt (line 6)) (1.21.6)\n",
            "Requirement already satisfied: opencv-python>=4.1.1 in /usr/local/lib/python3.7/dist-packages (from -r requirements.txt (line 7)) (4.1.2.30)\n",
            "Requirement already satisfied: Pillow>=7.1.2 in /usr/local/lib/python3.7/dist-packages (from -r requirements.txt (line 8)) (7.1.2)\n",
            "Collecting PyYAML>=5.3.1\n",
            "  Downloading PyYAML-6.0-cp37-cp37m-manylinux_2_5_x86_64.manylinux1_x86_64.manylinux_2_12_x86_64.manylinux2010_x86_64.whl (596 kB)\n",
            "\u001b[K     |████████████████████████████████| 596 kB 30.6 MB/s \n",
            "\u001b[?25hRequirement already satisfied: requests>=2.23.0 in /usr/local/lib/python3.7/dist-packages (from -r requirements.txt (line 10)) (2.23.0)\n",
            "Requirement already satisfied: scipy>=1.4.1 in /usr/local/lib/python3.7/dist-packages (from -r requirements.txt (line 11)) (1.4.1)\n",
            "Requirement already satisfied: torch>=1.7.0 in /usr/local/lib/python3.7/dist-packages (from -r requirements.txt (line 12)) (1.11.0+cu113)\n",
            "Requirement already satisfied: torchvision>=0.8.1 in /usr/local/lib/python3.7/dist-packages (from -r requirements.txt (line 13)) (0.12.0+cu113)\n",
            "Requirement already satisfied: tqdm>=4.41.0 in /usr/local/lib/python3.7/dist-packages (from -r requirements.txt (line 14)) (4.64.0)\n",
            "Requirement already satisfied: protobuf<4.21.3 in /usr/local/lib/python3.7/dist-packages (from -r requirements.txt (line 15)) (3.17.3)\n",
            "Requirement already satisfied: tensorboard>=2.4.1 in /usr/local/lib/python3.7/dist-packages (from -r requirements.txt (line 18)) (2.8.0)\n",
            "Requirement already satisfied: pandas>=1.1.4 in /usr/local/lib/python3.7/dist-packages (from -r requirements.txt (line 22)) (1.3.5)\n",
            "Requirement already satisfied: seaborn>=0.11.0 in /usr/local/lib/python3.7/dist-packages (from -r requirements.txt (line 23)) (0.11.2)\n",
            "Requirement already satisfied: ipython in /usr/local/lib/python3.7/dist-packages (from -r requirements.txt (line 35)) (5.5.0)\n",
            "Requirement already satisfied: psutil in /usr/local/lib/python3.7/dist-packages (from -r requirements.txt (line 36)) (5.4.8)\n",
            "Collecting thop\n",
            "  Downloading thop-0.1.0.post2207010342-py3-none-any.whl (15 kB)\n",
            "Requirement already satisfied: pyparsing!=2.0.4,!=2.1.2,!=2.1.6,>=2.0.1 in /usr/local/lib/python3.7/dist-packages (from matplotlib>=3.2.2->-r requirements.txt (line 5)) (3.0.9)\n",
            "Requirement already satisfied: python-dateutil>=2.1 in /usr/local/lib/python3.7/dist-packages (from matplotlib>=3.2.2->-r requirements.txt (line 5)) (2.8.2)\n",
            "Requirement already satisfied: cycler>=0.10 in /usr/local/lib/python3.7/dist-packages (from matplotlib>=3.2.2->-r requirements.txt (line 5)) (0.11.0)\n",
            "Requirement already satisfied: kiwisolver>=1.0.1 in /usr/local/lib/python3.7/dist-packages (from matplotlib>=3.2.2->-r requirements.txt (line 5)) (1.4.3)\n",
            "Requirement already satisfied: urllib3!=1.25.0,!=1.25.1,<1.26,>=1.21.1 in /usr/local/lib/python3.7/dist-packages (from requests>=2.23.0->-r requirements.txt (line 10)) (1.24.3)\n",
            "Requirement already satisfied: idna<3,>=2.5 in /usr/local/lib/python3.7/dist-packages (from requests>=2.23.0->-r requirements.txt (line 10)) (2.10)\n",
            "Requirement already satisfied: certifi>=2017.4.17 in /usr/local/lib/python3.7/dist-packages (from requests>=2.23.0->-r requirements.txt (line 10)) (2022.6.15)\n",
            "Requirement already satisfied: chardet<4,>=3.0.2 in /usr/local/lib/python3.7/dist-packages (from requests>=2.23.0->-r requirements.txt (line 10)) (3.0.4)\n",
            "Requirement already satisfied: typing-extensions in /usr/local/lib/python3.7/dist-packages (from torch>=1.7.0->-r requirements.txt (line 12)) (4.1.1)\n",
            "Requirement already satisfied: six>=1.9 in /usr/local/lib/python3.7/dist-packages (from protobuf<4.21.3->-r requirements.txt (line 15)) (1.15.0)\n",
            "Requirement already satisfied: setuptools>=41.0.0 in /usr/local/lib/python3.7/dist-packages (from tensorboard>=2.4.1->-r requirements.txt (line 18)) (57.4.0)\n",
            "Requirement already satisfied: tensorboard-data-server<0.7.0,>=0.6.0 in /usr/local/lib/python3.7/dist-packages (from tensorboard>=2.4.1->-r requirements.txt (line 18)) (0.6.1)\n",
            "Requirement already satisfied: google-auth<3,>=1.6.3 in /usr/local/lib/python3.7/dist-packages (from tensorboard>=2.4.1->-r requirements.txt (line 18)) (1.35.0)\n",
            "Requirement already satisfied: tensorboard-plugin-wit>=1.6.0 in /usr/local/lib/python3.7/dist-packages (from tensorboard>=2.4.1->-r requirements.txt (line 18)) (1.8.1)\n",
            "Requirement already satisfied: google-auth-oauthlib<0.5,>=0.4.1 in /usr/local/lib/python3.7/dist-packages (from tensorboard>=2.4.1->-r requirements.txt (line 18)) (0.4.6)\n",
            "Requirement already satisfied: grpcio>=1.24.3 in /usr/local/lib/python3.7/dist-packages (from tensorboard>=2.4.1->-r requirements.txt (line 18)) (1.46.3)\n",
            "Requirement already satisfied: markdown>=2.6.8 in /usr/local/lib/python3.7/dist-packages (from tensorboard>=2.4.1->-r requirements.txt (line 18)) (3.3.7)\n",
            "Requirement already satisfied: wheel>=0.26 in /usr/local/lib/python3.7/dist-packages (from tensorboard>=2.4.1->-r requirements.txt (line 18)) (0.37.1)\n",
            "Requirement already satisfied: werkzeug>=0.11.15 in /usr/local/lib/python3.7/dist-packages (from tensorboard>=2.4.1->-r requirements.txt (line 18)) (1.0.1)\n",
            "Requirement already satisfied: absl-py>=0.4 in /usr/local/lib/python3.7/dist-packages (from tensorboard>=2.4.1->-r requirements.txt (line 18)) (1.1.0)\n",
            "Requirement already satisfied: pytz>=2017.3 in /usr/local/lib/python3.7/dist-packages (from pandas>=1.1.4->-r requirements.txt (line 22)) (2022.1)\n",
            "Requirement already satisfied: cachetools<5.0,>=2.0.0 in /usr/local/lib/python3.7/dist-packages (from google-auth<3,>=1.6.3->tensorboard>=2.4.1->-r requirements.txt (line 18)) (4.2.4)\n",
            "Requirement already satisfied: pyasn1-modules>=0.2.1 in /usr/local/lib/python3.7/dist-packages (from google-auth<3,>=1.6.3->tensorboard>=2.4.1->-r requirements.txt (line 18)) (0.2.8)\n",
            "Requirement already satisfied: rsa<5,>=3.1.4 in /usr/local/lib/python3.7/dist-packages (from google-auth<3,>=1.6.3->tensorboard>=2.4.1->-r requirements.txt (line 18)) (4.8)\n",
            "Requirement already satisfied: requests-oauthlib>=0.7.0 in /usr/local/lib/python3.7/dist-packages (from google-auth-oauthlib<0.5,>=0.4.1->tensorboard>=2.4.1->-r requirements.txt (line 18)) (1.3.1)\n",
            "Requirement already satisfied: importlib-metadata>=4.4 in /usr/local/lib/python3.7/dist-packages (from markdown>=2.6.8->tensorboard>=2.4.1->-r requirements.txt (line 18)) (4.11.4)\n",
            "Requirement already satisfied: zipp>=0.5 in /usr/local/lib/python3.7/dist-packages (from importlib-metadata>=4.4->markdown>=2.6.8->tensorboard>=2.4.1->-r requirements.txt (line 18)) (3.8.0)\n",
            "Requirement already satisfied: pyasn1<0.5.0,>=0.4.6 in /usr/local/lib/python3.7/dist-packages (from pyasn1-modules>=0.2.1->google-auth<3,>=1.6.3->tensorboard>=2.4.1->-r requirements.txt (line 18)) (0.4.8)\n",
            "Requirement already satisfied: oauthlib>=3.0.0 in /usr/local/lib/python3.7/dist-packages (from requests-oauthlib>=0.7.0->google-auth-oauthlib<0.5,>=0.4.1->tensorboard>=2.4.1->-r requirements.txt (line 18)) (3.2.0)\n",
            "Requirement already satisfied: simplegeneric>0.8 in /usr/local/lib/python3.7/dist-packages (from ipython->-r requirements.txt (line 35)) (0.8.1)\n",
            "Requirement already satisfied: prompt-toolkit<2.0.0,>=1.0.4 in /usr/local/lib/python3.7/dist-packages (from ipython->-r requirements.txt (line 35)) (1.0.18)\n",
            "Requirement already satisfied: pygments in /usr/local/lib/python3.7/dist-packages (from ipython->-r requirements.txt (line 35)) (2.6.1)\n",
            "Requirement already satisfied: pexpect in /usr/local/lib/python3.7/dist-packages (from ipython->-r requirements.txt (line 35)) (4.8.0)\n",
            "Requirement already satisfied: decorator in /usr/local/lib/python3.7/dist-packages (from ipython->-r requirements.txt (line 35)) (4.4.2)\n",
            "Requirement already satisfied: traitlets>=4.2 in /usr/local/lib/python3.7/dist-packages (from ipython->-r requirements.txt (line 35)) (5.1.1)\n",
            "Requirement already satisfied: pickleshare in /usr/local/lib/python3.7/dist-packages (from ipython->-r requirements.txt (line 35)) (0.7.5)\n",
            "Requirement already satisfied: wcwidth in /usr/local/lib/python3.7/dist-packages (from prompt-toolkit<2.0.0,>=1.0.4->ipython->-r requirements.txt (line 35)) (0.2.5)\n",
            "Requirement already satisfied: ptyprocess>=0.5 in /usr/local/lib/python3.7/dist-packages (from pexpect->ipython->-r requirements.txt (line 35)) (0.7.0)\n",
            "Installing collected packages: thop, PyYAML\n",
            "  Attempting uninstall: PyYAML\n",
            "    Found existing installation: PyYAML 3.13\n",
            "    Uninstalling PyYAML-3.13:\n",
            "      Successfully uninstalled PyYAML-3.13\n",
            "Successfully installed PyYAML-6.0 thop-0.1.0.post2207010342\n"
          ]
        }
      ],
      "source": [
        "%cd yolov5\n",
        "!pip install -r requirements.txt"
      ]
    },
    {
      "cell_type": "markdown",
      "source": [
        "Copy the data configuration to the data folder"
      ],
      "metadata": {
        "id": "dWEebWxw2td9"
      }
    },
    {
      "cell_type": "code",
      "execution_count": null,
      "metadata": {
        "id": "pO9a2d5Anxrb"
      },
      "outputs": [],
      "source": [
        "# Copy data configuration file into yolo directory\n",
        "!cp /content/drive/MyDrive/Yolov5/sleepaid.yaml /content/yolov5/data/"
      ]
    },
    {
      "cell_type": "markdown",
      "metadata": {
        "id": "-zEaex3429Ep"
      },
      "source": [
        "##**Training**"
      ]
    },
    {
      "cell_type": "code",
      "source": [
        "# Import libraries\n",
        "import os\n",
        "import glob\n",
        "import shutil\n",
        "from pathlib import Path"
      ],
      "metadata": {
        "id": "FtL_jnyVaE63"
      },
      "execution_count": null,
      "outputs": []
    },
    {
      "cell_type": "code",
      "execution_count": null,
      "metadata": {
        "id": "dKXVov39QH6T"
      },
      "outputs": [],
      "source": [
        "# Get the train and test dataset from different folds\n",
        "def train_test_split(root_dir, test_fold):\n",
        "\n",
        "    # Make directory for training and testing images\n",
        "    train_imgs = Path('/content/yolov5/data/images/train')\n",
        "    test_imgs = Path('/content/yolov5/data/images/test')\n",
        "\n",
        "    if train_imgs.exists():\n",
        "      shutil.rmtree(train_imgs)\n",
        "    if test_imgs.exists():\n",
        "      shutil.rmtree(test_imgs)\n",
        "\n",
        "    os.mkdir(train_imgs)\n",
        "    os.mkdir(test_imgs)\n",
        "\n",
        "    # Make directory for target labels\n",
        "    train_labels = Path('/content/yolov5/data/labels/train')\n",
        "    test_labels = Path('/content/yolov5/data/labels/test')\n",
        "\n",
        "    if train_labels.exists():\n",
        "      shutil.rmtree(train_labels)\n",
        "    if test_labels.exists():\n",
        "      shutil.rmtree(test_labels)\n",
        "\n",
        "    os.makedirs(train_labels)\n",
        "    os.makedirs(test_labels)\n",
        "\n",
        "    for j, image in enumerate(glob.iglob(os.path.join('/content/drive/MyDrive/Negatives', \"*.jpg\"))):\n",
        "      if j<150:\n",
        "        shutil.copy(image, train_imgs)\n",
        "      else:\n",
        "        shutil.copy(image, test_imgs)\n",
        "\n",
        "    for i, folder in enumerate(os.listdir(root_dir)):\n",
        "      folder_path = os.path.join(root_dir, folder)\n",
        "      file_list = [image for image in glob.glob(os.path.join(folder_path, '*.jpg'))]\n",
        "\n",
        "      # Get the train folds\n",
        "      if i != test_fold:\n",
        "        for image in file_list:\n",
        "          shutil.copy(image, train_imgs)\n",
        "          shutil.copy(os.path.splitext(image)[0] + '.txt', train_labels)\n",
        "\n",
        "      # Get the test fold\n",
        "      elif i == test_fold:\n",
        "        for image in file_list:\n",
        "          shutil.copy(image, test_imgs)\n",
        "          shutil.copy(os.path.splitext(image)[0] + '.txt', test_labels)\n",
        "\n",
        "for i in range(1):\n",
        "  train_test_split('/content/drive/MyDrive/Dataset', i)\n",
        "  !python train.py --batch-size 8 --img-size 1920 --data 'sleepaid.yaml' --weights 'yolov5s.pt' --epochs 300 --cfg 'yolov5s.yaml'  \\\n",
        "                   --save-period 50 --patience 20 --hyp '/content/drive/MyDrive/Yolov5/hyp.yaml' --project '/content/drive/MyDrive/Yolov5/runs/final_train' \n",
        "  !mv /content/drive/MyDrive/Yolov5/runs/final_train/exp /content/drive/MyDrive/Yolov5/runs/final_train/results\"$i\""
      ]
    },
    {
      "cell_type": "markdown",
      "source": [
        "##**Validation**"
      ],
      "metadata": {
        "id": "ecBpqYdq2T2Q"
      }
    },
    {
      "cell_type": "code",
      "source": [
        "!unzip /content/drive/MyDrive/val.zip"
      ],
      "metadata": {
        "id": "BtsOGuh_Ksaj"
      },
      "execution_count": null,
      "outputs": []
    },
    {
      "cell_type": "code",
      "source": [
        "# unzip the DWU128 participant\n",
        "!unzip /content/drive/MyDrive/DWU128.zip -d /content/DWU128"
      ],
      "metadata": {
        "id": "Vb4NvWXIm8Zn"
      },
      "execution_count": null,
      "outputs": []
    },
    {
      "cell_type": "code",
      "source": [
        "val_imgs = Path('/content/yolov5/data/images/test')\n",
        "val_labels = Path('/content/yolov5/data/labels/test')\n",
        "\n",
        "if val_imgs.exists():\n",
        "  shutil.rmtree(val_imgs)\n",
        "if val_labels.exists():\n",
        "  shutil.rmtree(val_labels)\n",
        "\n",
        "os.mkdir(val_imgs)\n",
        "os.makedirs(val_labels)  \n",
        "\n",
        "# for folder in os.listdir('/content/DWU128'):\n",
        "#   folder_path = os.path.join('/content/DWU128', folder)\n",
        "#   if not folder.startswith('.'):\n",
        "for file in os.listdir('/content/DWU128'):\n",
        "  extension = os.path.splitext(file)[1]\n",
        "  f_path = os.path.join('/content/DWU128', file)\n",
        "  if extension == '.txt':\n",
        "    shutil.copy(f_path, val_labels)\n",
        "  elif extension == '.jpg':\n",
        "    shutil.copy(f_path, val_imgs)"
      ],
      "metadata": {
        "id": "xgAAhvwv7Yk-"
      },
      "execution_count": null,
      "outputs": []
    },
    {
      "cell_type": "code",
      "source": [
        "!python val.py --batch-size 8 --img-size 1920 --data 'sleepaid.yaml' --weights '/content/drive/MyDrive/Yolov5/runs/final_train/results2/weights/best.pt' --project '/content/drive/MyDrive/Yolov5/runs/final_train' "
      ],
      "metadata": {
        "id": "59od8f8c_lEI"
      },
      "execution_count": null,
      "outputs": []
    },
    {
      "cell_type": "markdown",
      "source": [
        "##**Testing**"
      ],
      "metadata": {
        "id": "7wimorq02cOC"
      }
    },
    {
      "cell_type": "code",
      "source": [
        "!python detect.py --source '/content/drive/MyDrive/B-DWU128.mp4' --max-det 1 --conf-thres 0.1 --iou-thres 0.2 --img-size 1920 --weights '/content/drive/MyDrive/Yolov5/runs/final_train/results2/weights/best.pt' --save-txt --data '/content/yolov5/data/sleepaid.yaml'"
      ],
      "metadata": {
        "id": "_rkcQEfYAC1F"
      },
      "execution_count": null,
      "outputs": []
    },
    {
      "cell_type": "markdown",
      "source": [
        "##**Position Time Quantification**"
      ],
      "metadata": {
        "id": "Amymhri_2h4r"
      }
    },
    {
      "cell_type": "code",
      "source": [
        "import cv2\n",
        "import torch\n",
        "from datetime import datetime\n",
        "import pandas as pd"
      ],
      "metadata": {
        "id": "kC8p_XzoC9rf"
      },
      "execution_count": null,
      "outputs": []
    },
    {
      "cell_type": "code",
      "source": [
        "def load_model():\n",
        "\n",
        "    model = torch.hub.load('ultralytics/yolov5',\n",
        "                            'custom', path='/content/drive/MyDrive/Yolov5/runs/final_train/results2/weights/best.pt')\n",
        "    \n",
        "    model.max_det = 1\n",
        "    model.conf_thres = 0.1\n",
        "    model.iou_thres = 0.2\n",
        "    \n",
        "    classes = ['B-Left_recovery', 'B-Left_lateral', 'B-Left_tilt', 'B-Supine', 'B-Supine_thorax_with_Left_pelvic_tilt', \n",
        "                'B-Supine_thorax_with_Right_pelvic_tilt', 'B-Supine_pelvis_with_Left_thorax_tilt', \n",
        "                'B-Supine_pelvis_with_Right_thorax_tilt', 'B-Right_tilt', 'B-Right_lateral', 'B-Right_recovery', 'B-Sitting', \n",
        "                'N_B-Left_recovery', 'N_B-Left_lateral', 'N_B-Left_tilt', 'N_B-Supine', 'N_B-Supine_thorax_with_Left_pelvic_tilt', \n",
        "                'N_B-Supine_thorax_with_Right_pelvic_tilt', 'N_B-Supine_pelvis_with_Left_thorax_tilt', \n",
        "                'N_B-Supine_pelvis_with_Right_thorax_tilt', 'N_B-Right_tilt', 'N_B-Right_lateral', 'N_B-Right_recovery', 'N_B-Sitting']\n",
        "                    \n",
        "    return model, classes\n",
        "\n",
        "    \n",
        "def detect_objects(video_file, model, classes):\n",
        "\n",
        "  count = 0 \n",
        "\n",
        "  cap = cv2.VideoCapture(video_file)\n",
        "  fps = cap.get(cv2.CAP_PROP_FPS)\n",
        "  objects = list()\n",
        "  pt_data = dict()\n",
        "  while True:\n",
        "      ret, frame = cap.read()\n",
        "      if ret:\n",
        "        result = model(frame)\n",
        "        labels = result.xyxyn[0][:, -1].cpu().numpy()\n",
        "        if len(labels) != 0:\n",
        "          count += 1\n",
        "          objects.append(classes[int(labels[0])])\n",
        "        # if len(objects) > 2:\n",
        "        #   if objects[-1] != objects[-2]:      \n",
        "        #     if objects[-2] not in pt_data:\n",
        "        #       pt_data[objects[-2]] = 0\n",
        "        #     pt_data[objects[-2]] += count/fps     \n",
        "        #     count = 0\n",
        "      else:\n",
        "          return objects"
      ],
      "metadata": {
        "id": "S2scTE8sCPMR"
      },
      "execution_count": null,
      "outputs": []
    },
    {
      "cell_type": "code",
      "source": [
        "model, classes = load_model()\n",
        "\n",
        "data = detect_objects('/content/drive/MyDrive/B-DWU128.mp4', model, classes)\n",
        "\n",
        "print(data)"
      ],
      "metadata": {
        "id": "AL8c47_1JbyA"
      },
      "execution_count": null,
      "outputs": []
    },
    {
      "cell_type": "code",
      "source": [
        "from collections import Counter\n",
        "counts = Counter(data)\n",
        "print(counts)"
      ],
      "metadata": {
        "id": "ZLgq8hkkyZ_p"
      },
      "execution_count": null,
      "outputs": []
    },
    {
      "cell_type": "code",
      "source": [
        "df = pd.DataFrame.from_dict(data, orient='index', columns=['Time spent'])\n",
        "# df.index.name = 'Position'\n",
        "display(df)"
      ],
      "metadata": {
        "colab": {
          "base_uri": "https://localhost:8080/",
          "height": 175
        },
        "id": "-e7eMIBdMZ2L",
        "outputId": "140f60ca-87b7-4b78-df07-4061aa32d9f4"
      },
      "execution_count": null,
      "outputs": [
        {
          "output_type": "display_data",
          "data": {
            "text/plain": [
              "                                        Time spent\n",
              "B-Left_lateral                                10.7\n",
              "B-Supine                                      15.1\n",
              "B-Supine_pelvis_with_Right_thorax_tilt         0.1\n",
              "B-Right_recovery                               0.1"
            ],
            "text/html": [
              "\n",
              "  <div id=\"df-f8eea952-5e6e-4b32-99fc-376ade6463a7\">\n",
              "    <div class=\"colab-df-container\">\n",
              "      <div>\n",
              "<style scoped>\n",
              "    .dataframe tbody tr th:only-of-type {\n",
              "        vertical-align: middle;\n",
              "    }\n",
              "\n",
              "    .dataframe tbody tr th {\n",
              "        vertical-align: top;\n",
              "    }\n",
              "\n",
              "    .dataframe thead th {\n",
              "        text-align: right;\n",
              "    }\n",
              "</style>\n",
              "<table border=\"1\" class=\"dataframe\">\n",
              "  <thead>\n",
              "    <tr style=\"text-align: right;\">\n",
              "      <th></th>\n",
              "      <th>Time spent</th>\n",
              "    </tr>\n",
              "  </thead>\n",
              "  <tbody>\n",
              "    <tr>\n",
              "      <th>B-Left_lateral</th>\n",
              "      <td>10.7</td>\n",
              "    </tr>\n",
              "    <tr>\n",
              "      <th>B-Supine</th>\n",
              "      <td>15.1</td>\n",
              "    </tr>\n",
              "    <tr>\n",
              "      <th>B-Supine_pelvis_with_Right_thorax_tilt</th>\n",
              "      <td>0.1</td>\n",
              "    </tr>\n",
              "    <tr>\n",
              "      <th>B-Right_recovery</th>\n",
              "      <td>0.1</td>\n",
              "    </tr>\n",
              "  </tbody>\n",
              "</table>\n",
              "</div>\n",
              "      <button class=\"colab-df-convert\" onclick=\"convertToInteractive('df-f8eea952-5e6e-4b32-99fc-376ade6463a7')\"\n",
              "              title=\"Convert this dataframe to an interactive table.\"\n",
              "              style=\"display:none;\">\n",
              "        \n",
              "  <svg xmlns=\"http://www.w3.org/2000/svg\" height=\"24px\"viewBox=\"0 0 24 24\"\n",
              "       width=\"24px\">\n",
              "    <path d=\"M0 0h24v24H0V0z\" fill=\"none\"/>\n",
              "    <path d=\"M18.56 5.44l.94 2.06.94-2.06 2.06-.94-2.06-.94-.94-2.06-.94 2.06-2.06.94zm-11 1L8.5 8.5l.94-2.06 2.06-.94-2.06-.94L8.5 2.5l-.94 2.06-2.06.94zm10 10l.94 2.06.94-2.06 2.06-.94-2.06-.94-.94-2.06-.94 2.06-2.06.94z\"/><path d=\"M17.41 7.96l-1.37-1.37c-.4-.4-.92-.59-1.43-.59-.52 0-1.04.2-1.43.59L10.3 9.45l-7.72 7.72c-.78.78-.78 2.05 0 2.83L4 21.41c.39.39.9.59 1.41.59.51 0 1.02-.2 1.41-.59l7.78-7.78 2.81-2.81c.8-.78.8-2.07 0-2.86zM5.41 20L4 18.59l7.72-7.72 1.47 1.35L5.41 20z\"/>\n",
              "  </svg>\n",
              "      </button>\n",
              "      \n",
              "  <style>\n",
              "    .colab-df-container {\n",
              "      display:flex;\n",
              "      flex-wrap:wrap;\n",
              "      gap: 12px;\n",
              "    }\n",
              "\n",
              "    .colab-df-convert {\n",
              "      background-color: #E8F0FE;\n",
              "      border: none;\n",
              "      border-radius: 50%;\n",
              "      cursor: pointer;\n",
              "      display: none;\n",
              "      fill: #1967D2;\n",
              "      height: 32px;\n",
              "      padding: 0 0 0 0;\n",
              "      width: 32px;\n",
              "    }\n",
              "\n",
              "    .colab-df-convert:hover {\n",
              "      background-color: #E2EBFA;\n",
              "      box-shadow: 0px 1px 2px rgba(60, 64, 67, 0.3), 0px 1px 3px 1px rgba(60, 64, 67, 0.15);\n",
              "      fill: #174EA6;\n",
              "    }\n",
              "\n",
              "    [theme=dark] .colab-df-convert {\n",
              "      background-color: #3B4455;\n",
              "      fill: #D2E3FC;\n",
              "    }\n",
              "\n",
              "    [theme=dark] .colab-df-convert:hover {\n",
              "      background-color: #434B5C;\n",
              "      box-shadow: 0px 1px 3px 1px rgba(0, 0, 0, 0.15);\n",
              "      filter: drop-shadow(0px 1px 2px rgba(0, 0, 0, 0.3));\n",
              "      fill: #FFFFFF;\n",
              "    }\n",
              "  </style>\n",
              "\n",
              "      <script>\n",
              "        const buttonEl =\n",
              "          document.querySelector('#df-f8eea952-5e6e-4b32-99fc-376ade6463a7 button.colab-df-convert');\n",
              "        buttonEl.style.display =\n",
              "          google.colab.kernel.accessAllowed ? 'block' : 'none';\n",
              "\n",
              "        async function convertToInteractive(key) {\n",
              "          const element = document.querySelector('#df-f8eea952-5e6e-4b32-99fc-376ade6463a7');\n",
              "          const dataTable =\n",
              "            await google.colab.kernel.invokeFunction('convertToInteractive',\n",
              "                                                     [key], {});\n",
              "          if (!dataTable) return;\n",
              "\n",
              "          const docLinkHtml = 'Like what you see? Visit the ' +\n",
              "            '<a target=\"_blank\" href=https://colab.research.google.com/notebooks/data_table.ipynb>data table notebook</a>'\n",
              "            + ' to learn more about interactive tables.';\n",
              "          element.innerHTML = '';\n",
              "          dataTable['output_type'] = 'display_data';\n",
              "          await google.colab.output.renderOutput(dataTable, element);\n",
              "          const docLink = document.createElement('div');\n",
              "          docLink.innerHTML = docLinkHtml;\n",
              "          element.appendChild(docLink);\n",
              "        }\n",
              "      </script>\n",
              "    </div>\n",
              "  </div>\n",
              "  "
            ]
          },
          "metadata": {}
        }
      ]
    },
    {
      "cell_type": "code",
      "source": [
        "nb_data = detect_objects('/content/drive/MyDrive/N_B-DWU128.mp4', model, classes)"
      ],
      "metadata": {
        "id": "cDOXKjcTOXPi"
      },
      "execution_count": null,
      "outputs": []
    },
    {
      "cell_type": "code",
      "source": [
        "df = pd.DataFrame.from_dict(nb_data, orient='index', columns=['Time spent'])\n",
        "# df.index.name = 'Position'\n",
        "display(df)"
      ],
      "metadata": {
        "colab": {
          "base_uri": "https://localhost:8080/",
          "height": 269
        },
        "id": "wO0EtAUK6y3D",
        "outputId": "57fc984a-a9e5-41e7-8904-fe9fc011e595"
      },
      "execution_count": null,
      "outputs": [
        {
          "output_type": "display_data",
          "data": {
            "text/plain": [
              "                                          Time spent\n",
              "N_B-Left_recovery                                0.6\n",
              "N_B-Left_lateral                                 5.0\n",
              "N_B-Supine                                      21.9\n",
              "N_B-Supine_thorax_with_Left_pelvic_tilt          5.1\n",
              "N_B-Left_tilt                                    0.6\n",
              "N_B-Supine_thorax_with_Right_pelvic_tilt         6.2\n",
              "N_B-Supine_pelvis_with_Left_thorax_tilt         11.7"
            ],
            "text/html": [
              "\n",
              "  <div id=\"df-7101b97d-05fe-47c2-ba9f-f21dfb82c80f\">\n",
              "    <div class=\"colab-df-container\">\n",
              "      <div>\n",
              "<style scoped>\n",
              "    .dataframe tbody tr th:only-of-type {\n",
              "        vertical-align: middle;\n",
              "    }\n",
              "\n",
              "    .dataframe tbody tr th {\n",
              "        vertical-align: top;\n",
              "    }\n",
              "\n",
              "    .dataframe thead th {\n",
              "        text-align: right;\n",
              "    }\n",
              "</style>\n",
              "<table border=\"1\" class=\"dataframe\">\n",
              "  <thead>\n",
              "    <tr style=\"text-align: right;\">\n",
              "      <th></th>\n",
              "      <th>Time spent</th>\n",
              "    </tr>\n",
              "  </thead>\n",
              "  <tbody>\n",
              "    <tr>\n",
              "      <th>N_B-Left_recovery</th>\n",
              "      <td>0.6</td>\n",
              "    </tr>\n",
              "    <tr>\n",
              "      <th>N_B-Left_lateral</th>\n",
              "      <td>5.0</td>\n",
              "    </tr>\n",
              "    <tr>\n",
              "      <th>N_B-Supine</th>\n",
              "      <td>21.9</td>\n",
              "    </tr>\n",
              "    <tr>\n",
              "      <th>N_B-Supine_thorax_with_Left_pelvic_tilt</th>\n",
              "      <td>5.1</td>\n",
              "    </tr>\n",
              "    <tr>\n",
              "      <th>N_B-Left_tilt</th>\n",
              "      <td>0.6</td>\n",
              "    </tr>\n",
              "    <tr>\n",
              "      <th>N_B-Supine_thorax_with_Right_pelvic_tilt</th>\n",
              "      <td>6.2</td>\n",
              "    </tr>\n",
              "    <tr>\n",
              "      <th>N_B-Supine_pelvis_with_Left_thorax_tilt</th>\n",
              "      <td>11.7</td>\n",
              "    </tr>\n",
              "  </tbody>\n",
              "</table>\n",
              "</div>\n",
              "      <button class=\"colab-df-convert\" onclick=\"convertToInteractive('df-7101b97d-05fe-47c2-ba9f-f21dfb82c80f')\"\n",
              "              title=\"Convert this dataframe to an interactive table.\"\n",
              "              style=\"display:none;\">\n",
              "        \n",
              "  <svg xmlns=\"http://www.w3.org/2000/svg\" height=\"24px\"viewBox=\"0 0 24 24\"\n",
              "       width=\"24px\">\n",
              "    <path d=\"M0 0h24v24H0V0z\" fill=\"none\"/>\n",
              "    <path d=\"M18.56 5.44l.94 2.06.94-2.06 2.06-.94-2.06-.94-.94-2.06-.94 2.06-2.06.94zm-11 1L8.5 8.5l.94-2.06 2.06-.94-2.06-.94L8.5 2.5l-.94 2.06-2.06.94zm10 10l.94 2.06.94-2.06 2.06-.94-2.06-.94-.94-2.06-.94 2.06-2.06.94z\"/><path d=\"M17.41 7.96l-1.37-1.37c-.4-.4-.92-.59-1.43-.59-.52 0-1.04.2-1.43.59L10.3 9.45l-7.72 7.72c-.78.78-.78 2.05 0 2.83L4 21.41c.39.39.9.59 1.41.59.51 0 1.02-.2 1.41-.59l7.78-7.78 2.81-2.81c.8-.78.8-2.07 0-2.86zM5.41 20L4 18.59l7.72-7.72 1.47 1.35L5.41 20z\"/>\n",
              "  </svg>\n",
              "      </button>\n",
              "      \n",
              "  <style>\n",
              "    .colab-df-container {\n",
              "      display:flex;\n",
              "      flex-wrap:wrap;\n",
              "      gap: 12px;\n",
              "    }\n",
              "\n",
              "    .colab-df-convert {\n",
              "      background-color: #E8F0FE;\n",
              "      border: none;\n",
              "      border-radius: 50%;\n",
              "      cursor: pointer;\n",
              "      display: none;\n",
              "      fill: #1967D2;\n",
              "      height: 32px;\n",
              "      padding: 0 0 0 0;\n",
              "      width: 32px;\n",
              "    }\n",
              "\n",
              "    .colab-df-convert:hover {\n",
              "      background-color: #E2EBFA;\n",
              "      box-shadow: 0px 1px 2px rgba(60, 64, 67, 0.3), 0px 1px 3px 1px rgba(60, 64, 67, 0.15);\n",
              "      fill: #174EA6;\n",
              "    }\n",
              "\n",
              "    [theme=dark] .colab-df-convert {\n",
              "      background-color: #3B4455;\n",
              "      fill: #D2E3FC;\n",
              "    }\n",
              "\n",
              "    [theme=dark] .colab-df-convert:hover {\n",
              "      background-color: #434B5C;\n",
              "      box-shadow: 0px 1px 3px 1px rgba(0, 0, 0, 0.15);\n",
              "      filter: drop-shadow(0px 1px 2px rgba(0, 0, 0, 0.3));\n",
              "      fill: #FFFFFF;\n",
              "    }\n",
              "  </style>\n",
              "\n",
              "      <script>\n",
              "        const buttonEl =\n",
              "          document.querySelector('#df-7101b97d-05fe-47c2-ba9f-f21dfb82c80f button.colab-df-convert');\n",
              "        buttonEl.style.display =\n",
              "          google.colab.kernel.accessAllowed ? 'block' : 'none';\n",
              "\n",
              "        async function convertToInteractive(key) {\n",
              "          const element = document.querySelector('#df-7101b97d-05fe-47c2-ba9f-f21dfb82c80f');\n",
              "          const dataTable =\n",
              "            await google.colab.kernel.invokeFunction('convertToInteractive',\n",
              "                                                     [key], {});\n",
              "          if (!dataTable) return;\n",
              "\n",
              "          const docLinkHtml = 'Like what you see? Visit the ' +\n",
              "            '<a target=\"_blank\" href=https://colab.research.google.com/notebooks/data_table.ipynb>data table notebook</a>'\n",
              "            + ' to learn more about interactive tables.';\n",
              "          element.innerHTML = '';\n",
              "          dataTable['output_type'] = 'display_data';\n",
              "          await google.colab.output.renderOutput(dataTable, element);\n",
              "          const docLink = document.createElement('div');\n",
              "          docLink.innerHTML = docLinkHtml;\n",
              "          element.appendChild(docLink);\n",
              "        }\n",
              "      </script>\n",
              "    </div>\n",
              "  </div>\n",
              "  "
            ]
          },
          "metadata": {}
        }
      ]
    }
  ],
  "metadata": {
    "accelerator": "GPU",
    "colab": {
      "background_execution": "on",
      "collapsed_sections": [],
      "machine_shape": "hm",
      "name": "SBI-YOLO-Pytorch.ipynb",
      "provenance": [],
      "mount_file_id": "1ZJ9n-buiiNINIFUseUKUJDVWZttXG85q",
      "authorship_tag": "ABX9TyNorQrg0WvpUcp6V5q4YOEH",
      "include_colab_link": true
    },
    "kernelspec": {
      "display_name": "Python 3",
      "name": "python3"
    },
    "language_info": {
      "name": "python"
    },
    "gpuClass": "standard"
  },
  "nbformat": 4,
  "nbformat_minor": 0
}