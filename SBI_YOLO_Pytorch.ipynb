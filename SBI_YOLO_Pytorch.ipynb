{
  "cells": [
    {
      "cell_type": "markdown",
      "metadata": {
        "id": "view-in-github",
        "colab_type": "text"
      },
      "source": [
        "<a href=\"https://colab.research.google.com/github/RahaviSelvarajan/yolov5_colab/blob/main/SBI_YOLO_Pytorch.ipynb\" target=\"_parent\"><img src=\"https://colab.research.google.com/assets/colab-badge.svg\" alt=\"Open In Colab\"/></a>"
      ]
    },
    {
      "cell_type": "code",
      "execution_count": null,
      "metadata": {
        "id": "upfPG7PdDd4T"
      },
      "outputs": [],
      "source": [
        "!nvidia-smi"
      ]
    },
    {
      "cell_type": "code",
      "execution_count": null,
      "metadata": {
        "id": "Q3nvEOAwNemS"
      },
      "outputs": [],
      "source": [
        "!python --version"
      ]
    },
    {
      "cell_type": "markdown",
      "metadata": {
        "id": "Kiix8a9fbpxX"
      },
      "source": [
        "##***Mount Google Drive***"
      ]
    },
    {
      "cell_type": "code",
      "execution_count": 2,
      "metadata": {
        "id": "vfuCLTVIYuAY",
        "colab": {
          "base_uri": "https://localhost:8080/"
        },
        "outputId": "ae5e0240-f695-45f6-badd-ee1ae2c6a707"
      },
      "outputs": [
        {
          "output_type": "stream",
          "name": "stdout",
          "text": [
            "Drive already mounted at /content/drive; to attempt to forcibly remount, call drive.mount(\"/content/drive\", force_remount=True).\n"
          ]
        }
      ],
      "source": [
        "from google.colab import drive\n",
        "drive.mount('/content/drive')"
      ]
    },
    {
      "cell_type": "markdown",
      "metadata": {
        "id": "J5dv5417cFp1"
      },
      "source": [
        "##***Mount Onedrive to get the dataset***"
      ]
    },
    {
      "cell_type": "code",
      "execution_count": null,
      "metadata": {
        "id": "2EM5DnPkcFB8"
      },
      "outputs": [],
      "source": [
        "!wget https://downloads.rclone.org/v1.57.0/rclone-v1.57.0-linux-amd64.deb\n",
        "!apt install ./rclone-v1.57.0-linux-amd64.deb"
      ]
    },
    {
      "cell_type": "code",
      "execution_count": null,
      "metadata": {
        "id": "PMBTCvAKcPPL"
      },
      "outputs": [],
      "source": [
        "!rclone config"
      ]
    },
    {
      "cell_type": "code",
      "execution_count": null,
      "metadata": {
        "id": "Xf0aoeTVcfTo"
      },
      "outputs": [],
      "source": [
        "!sudo mkdir /content/onedrive\n",
        "!nohup rclone --vfs-cache-mode writes mount onedrive: /content/onedrive &"
      ]
    },
    {
      "cell_type": "markdown",
      "metadata": {
        "id": "EiRqJorAD1Ma"
      },
      "source": [
        "**Run the below cell only when onedrive gets disconnected in the middle of training and mount it again using the above command.**"
      ]
    },
    {
      "cell_type": "code",
      "execution_count": null,
      "metadata": {
        "id": "09xNa74Q_L6c"
      },
      "outputs": [],
      "source": [
        "!fusermount -u /content/onedrive"
      ]
    },
    {
      "cell_type": "markdown",
      "metadata": {
        "id": "31n3wlf6fRht"
      },
      "source": [
        "##***Git Clone YOLOv5-Pytorch model***"
      ]
    },
    {
      "cell_type": "code",
      "execution_count": 3,
      "metadata": {
        "colab": {
          "base_uri": "https://localhost:8080/"
        },
        "id": "8nVfb7jceYS-",
        "outputId": "b0ff1848-0b4f-44f8-a513-19f3874c0c37"
      },
      "outputs": [
        {
          "output_type": "stream",
          "name": "stdout",
          "text": [
            "Cloning into 'yolov5'...\n",
            "remote: Enumerating objects: 12385, done.\u001b[K\n",
            "remote: Counting objects: 100% (5/5), done.\u001b[K\n",
            "remote: Compressing objects: 100% (5/5), done.\u001b[K\n",
            "remote: Total 12385 (delta 0), reused 3 (delta 0), pack-reused 12380\u001b[K\n",
            "Receiving objects: 100% (12385/12385), 12.17 MiB | 11.68 MiB/s, done.\n",
            "Resolving deltas: 100% (8543/8543), done.\n"
          ]
        }
      ],
      "source": [
        "!git clone https://github.com/ultralytics/yolov5"
      ]
    },
    {
      "cell_type": "code",
      "source": [
        "!unzip /content/drive/MyDrive/val.zip"
      ],
      "metadata": {
        "id": "BtsOGuh_Ksaj"
      },
      "execution_count": null,
      "outputs": []
    },
    {
      "cell_type": "markdown",
      "metadata": {
        "id": "fdclKfpTfjny"
      },
      "source": [
        "Install the required python packages"
      ]
    },
    {
      "cell_type": "code",
      "execution_count": null,
      "metadata": {
        "id": "nOL77mC1ffYh"
      },
      "outputs": [],
      "source": [
        "%cd yolov5\n",
        "!pip install -r requirements.txt"
      ]
    },
    {
      "cell_type": "markdown",
      "metadata": {
        "id": "-zEaex3429Ep"
      },
      "source": [
        "##***Training***"
      ]
    },
    {
      "cell_type": "code",
      "execution_count": null,
      "metadata": {
        "id": "pO9a2d5Anxrb"
      },
      "outputs": [],
      "source": [
        "# Copy data configuration file into yolo directory\n",
        "!cp /content/drive/MyDrive/Yolov5/sleepaid.yaml /content/yolov5/data/"
      ]
    },
    {
      "cell_type": "code",
      "source": [
        "# Import libraries\n",
        "import os\n",
        "import glob\n",
        "import shutil\n",
        "from pathlib import Path"
      ],
      "metadata": {
        "id": "FtL_jnyVaE63"
      },
      "execution_count": null,
      "outputs": []
    },
    {
      "cell_type": "code",
      "source": [
        "val_imgs = Path('/content/yolov5/data/images/test')\n",
        "val_labels = Path('/content/yolov5/data/labels/test')\n",
        "\n",
        "if val_imgs.exists():\n",
        "  shutil.rmtree(val_imgs)\n",
        "if val_labels.exists():\n",
        "  shutil.rmtree(val_labels)\n",
        "\n",
        "os.mkdir(val_imgs)\n",
        "os.makedirs(val_labels)  \n",
        "\n",
        "for folder in os.listdir('/content/val'):\n",
        "  folder_path = os.path.join('/content/val', folder)\n",
        "  if not folder.startswith('.'):\n",
        "    for file in os.listdir(folder_path):\n",
        "      extension = os.path.splitext(file)[1]\n",
        "      f_path = os.path.join('/content/val',folder, file)\n",
        "      if extension == '.txt':\n",
        "        shutil.copy(f_path, val_labels)\n",
        "      elif extension == '.jpg':\n",
        "        shutil.copy(f_path, val_imgs)"
      ],
      "metadata": {
        "id": "xgAAhvwv7Yk-"
      },
      "execution_count": null,
      "outputs": []
    },
    {
      "cell_type": "code",
      "source": [
        "!python val.py --batch-size 8 --img-size 1920 --data 'sleepaid.yaml' --weights '/content/drive/MyDrive/Yolov5/runs/final_train/results2/weights/best.pt' --project '/content/drive/MyDrive/Yolov5/runs/final_train' "
      ],
      "metadata": {
        "id": "59od8f8c_lEI"
      },
      "execution_count": null,
      "outputs": []
    },
    {
      "cell_type": "code",
      "execution_count": null,
      "metadata": {
        "id": "dKXVov39QH6T"
      },
      "outputs": [],
      "source": [
        "# Get the train and test dataset from different folds\n",
        "def train_test_split(root_dir, test_fold):\n",
        "\n",
        "    # Make directory for training and testing images\n",
        "    train_imgs = Path('/content/yolov5/data/images/train')\n",
        "    test_imgs = Path('/content/yolov5/data/images/test')\n",
        "\n",
        "    if train_imgs.exists():\n",
        "      shutil.rmtree(train_imgs)\n",
        "    if test_imgs.exists():\n",
        "      shutil.rmtree(test_imgs)\n",
        "\n",
        "    os.mkdir(train_imgs)\n",
        "    os.mkdir(test_imgs)\n",
        "\n",
        "    # Make directory for target labels\n",
        "    train_labels = Path('/content/yolov5/data/labels/train')\n",
        "    test_labels = Path('/content/yolov5/data/labels/test')\n",
        "\n",
        "    if train_labels.exists():\n",
        "      shutil.rmtree(train_labels)\n",
        "    if test_labels.exists():\n",
        "      shutil.rmtree(test_labels)\n",
        "\n",
        "    os.makedirs(train_labels)\n",
        "    os.makedirs(test_labels)\n",
        "\n",
        "    for j, image in enumerate(glob.iglob(os.path.join('/content/drive/MyDrive/Negatives', \"*.jpg\"))):\n",
        "      if j<150:\n",
        "        shutil.copy(image, train_imgs)\n",
        "      else:\n",
        "        shutil.copy(image, test_imgs)\n",
        "\n",
        "    for i, folder in enumerate(os.listdir(root_dir)):\n",
        "      folder_path = os.path.join(root_dir, folder)\n",
        "      file_list = [image for image in glob.glob(os.path.join(folder_path, '*.jpg'))]\n",
        "\n",
        "      # Get the train folds\n",
        "      if i != test_fold:\n",
        "        for image in file_list:\n",
        "          shutil.copy(image, train_imgs)\n",
        "          shutil.copy(os.path.splitext(image)[0] + '.txt', train_labels)\n",
        "\n",
        "      # Get the test fold\n",
        "      elif i == test_fold:\n",
        "        for image in file_list:\n",
        "          shutil.copy(image, test_imgs)\n",
        "          shutil.copy(os.path.splitext(image)[0] + '.txt', test_labels)\n",
        "\n",
        "for i in range(1):\n",
        "  train_test_split('/content/drive/MyDrive/Dataset', i)\n",
        "  !python train.py --batch-size 8 --img-size 1920 --data 'sleepaid.yaml' --weights 'yolov5s.pt' --epochs 300 --cfg 'yolov5s.yaml'  \\\n",
        "                   --save-period 50 --patience 20 --hyp '/content/drive/MyDrive/Yolov5/hyp.yaml' --project '/content/drive/MyDrive/Yolov5/runs/final_train' \n",
        "  !mv /content/drive/MyDrive/Yolov5/runs/final_train/exp /content/drive/MyDrive/Yolov5/runs/final_train/results\"$i\""
      ]
    },
    {
      "cell_type": "code",
      "source": [
        "!python detect.py --source '/content/drive/MyDrive/B-DWU128.mp4' --max-det 1 --conf-thres 0.1 --img-size 1920 --weights '/content/drive/MyDrive/Yolov5/runs/final_train/results2/weights/best.pt' --save-txt --data '/content/yolov5/data/sleepaid.yaml'"
      ],
      "metadata": {
        "id": "_rkcQEfYAC1F"
      },
      "execution_count": null,
      "outputs": []
    },
    {
      "cell_type": "code",
      "source": [
        "import cv2\n",
        "import torch\n",
        "from datetime import datetime\n",
        "import pandas as pd"
      ],
      "metadata": {
        "id": "kC8p_XzoC9rf"
      },
      "execution_count": null,
      "outputs": []
    },
    {
      "cell_type": "code",
      "source": [
        "def load_model():\n",
        "\n",
        "    model = torch.hub.load('ultralytics/yolov5',\n",
        "                            'custom', path='/content/drive/MyDrive/Yolov5/runs/final_train/results2/weights/best.pt')\n",
        "    \n",
        "    model.max_det = 1\n",
        "    \n",
        "    classes = ['B-Left_recovery', 'B-Left_lateral', 'B-Left_tilt', 'B-Supine', 'B-Supine_thorax_with_Left_pelvic_tilt', \n",
        "                'B-Supine_thorax_with_Right_pelvic_tilt', 'B-Supine_pelvis_with_Left_thorax_tilt', \n",
        "                'B-Supine_pelvis_with_Right_thorax_tilt', 'B-Right_tilt', 'B-Right_lateral', 'B-Right_recovery', 'B-Sitting', \n",
        "                'N_B-Left_recovery', 'N_B-Left_lateral', 'N_B-Left_tilt', 'N_B-Supine', 'N_B-Supine_thorax_with_Left_pelvic_tilt', \n",
        "                'N_B-Supine_thorax_with_Right_pelvic_tilt', 'N_B-Supine_pelvis_with_Left_thorax_tilt', \n",
        "                'N_B-Supine_pelvis_with_Right_thorax_tilt', 'N_B-Right_tilt', 'N_B-Right_lateral', 'N_B-Right_recovery', 'N_B-Sitting']\n",
        "                    \n",
        "    return model, classes\n",
        "\n",
        "    \n",
        "def detect_objects(video_file, model, classes):\n",
        "\n",
        "  count = 0 \n",
        "\n",
        "  cap = cv2.VideoCapture(video_file)\n",
        "  fps = cap.get(cv2.CAP_PROP_FPS)\n",
        "  objects = list()\n",
        "  pt_data = dict()\n",
        "  while True:\n",
        "      ret, frame = cap.read()\n",
        "      if ret:\n",
        "        result = model(frame)\n",
        "        labels = result.xyxyn[0][:, -1].cpu().numpy()\n",
        "        if len(labels) != 0:\n",
        "          count += 1\n",
        "          objects.append(classes[int(labels[0])])\n",
        "        if len(objects) > 2:\n",
        "          if objects[-1] != objects[-2]:\n",
        "            pt_data[str(count/fps)] = objects[-2]\n",
        "            count = 0\n",
        "      else:\n",
        "          return pt_data\n"
      ],
      "metadata": {
        "id": "S2scTE8sCPMR"
      },
      "execution_count": null,
      "outputs": []
    },
    {
      "cell_type": "code",
      "source": [
        "model, classes = load_model()\n",
        "\n",
        "data = detect_objects('/content/drive/MyDrive/B-DWU128.mp4', model, classes)\n",
        "\n",
        "print(data)"
      ],
      "metadata": {
        "colab": {
          "base_uri": "https://localhost:8080/"
        },
        "id": "AL8c47_1JbyA",
        "outputId": "c402eb68-bd19-4741-a978-7f9400f87dd6"
      },
      "execution_count": null,
      "outputs": [
        {
          "output_type": "stream",
          "name": "stderr",
          "text": [
            "Using cache found in /root/.cache/torch/hub/ultralytics_yolov5_master\n",
            "\u001b[31m\u001b[1mrequirements:\u001b[0m PyYAML>=5.3.1 not found and is required by YOLOv5, attempting auto-update...\n",
            "Looking in indexes: https://pypi.org/simple, https://us-python.pkg.dev/colab-wheels/public/simple/\n",
            "Requirement already satisfied: PyYAML>=5.3.1 in /usr/local/lib/python3.7/dist-packages (6.0)\n",
            "\n",
            "\u001b[31m\u001b[1mrequirements:\u001b[0m 1 package updated per /root/.cache/torch/hub/ultralytics_yolov5_master/requirements.txt\n",
            "\u001b[31m\u001b[1mrequirements:\u001b[0m ⚠️ \u001b[1mRestart runtime or rerun command for updates to take effect\u001b[0m\n",
            "\n",
            "YOLOv5 🚀 2022-6-20 Python-3.7.13 torch-1.11.0+cu113 CUDA:0 (Tesla T4, 15110MiB)\n",
            "\n",
            "Fusing layers... \n",
            "YOLOv5s summary: 213 layers, 7074853 parameters, 0 gradients\n",
            "Adding AutoShape... \n"
          ]
        },
        {
          "output_type": "stream",
          "name": "stdout",
          "text": [
            "{'10.7': 'B-Left_lateral', '15.1': 'B-Supine', '0.0': 'B-Supine_pelvis_with_Right_thorax_tilt', '0.1': 'B-Right_recovery'}\n"
          ]
        }
      ]
    },
    {
      "cell_type": "code",
      "source": [
        "df = pd.DataFrame.from_dict(data, orient='index', columns=['Position'])\n",
        "df.index.name = 'Time spent'\n",
        "display(df.reset_index())"
      ],
      "metadata": {
        "colab": {
          "base_uri": "https://localhost:8080/",
          "height": 175
        },
        "id": "-e7eMIBdMZ2L",
        "outputId": "0350fe0f-11f3-4844-fa8a-830a65f6077b"
      },
      "execution_count": null,
      "outputs": [
        {
          "output_type": "display_data",
          "data": {
            "text/plain": [
              "  Time spent                                Position\n",
              "0       10.7                          B-Left_lateral\n",
              "1       15.1                                B-Supine\n",
              "2        0.0  B-Supine_pelvis_with_Right_thorax_tilt\n",
              "3        0.1                        B-Right_recovery"
            ],
            "text/html": [
              "\n",
              "  <div id=\"df-a533507d-f686-4e4d-99fc-180e5b42b0b7\">\n",
              "    <div class=\"colab-df-container\">\n",
              "      <div>\n",
              "<style scoped>\n",
              "    .dataframe tbody tr th:only-of-type {\n",
              "        vertical-align: middle;\n",
              "    }\n",
              "\n",
              "    .dataframe tbody tr th {\n",
              "        vertical-align: top;\n",
              "    }\n",
              "\n",
              "    .dataframe thead th {\n",
              "        text-align: right;\n",
              "    }\n",
              "</style>\n",
              "<table border=\"1\" class=\"dataframe\">\n",
              "  <thead>\n",
              "    <tr style=\"text-align: right;\">\n",
              "      <th></th>\n",
              "      <th>Time spent</th>\n",
              "      <th>Position</th>\n",
              "    </tr>\n",
              "  </thead>\n",
              "  <tbody>\n",
              "    <tr>\n",
              "      <th>0</th>\n",
              "      <td>10.7</td>\n",
              "      <td>B-Left_lateral</td>\n",
              "    </tr>\n",
              "    <tr>\n",
              "      <th>1</th>\n",
              "      <td>15.1</td>\n",
              "      <td>B-Supine</td>\n",
              "    </tr>\n",
              "    <tr>\n",
              "      <th>2</th>\n",
              "      <td>0.0</td>\n",
              "      <td>B-Supine_pelvis_with_Right_thorax_tilt</td>\n",
              "    </tr>\n",
              "    <tr>\n",
              "      <th>3</th>\n",
              "      <td>0.1</td>\n",
              "      <td>B-Right_recovery</td>\n",
              "    </tr>\n",
              "  </tbody>\n",
              "</table>\n",
              "</div>\n",
              "      <button class=\"colab-df-convert\" onclick=\"convertToInteractive('df-a533507d-f686-4e4d-99fc-180e5b42b0b7')\"\n",
              "              title=\"Convert this dataframe to an interactive table.\"\n",
              "              style=\"display:none;\">\n",
              "        \n",
              "  <svg xmlns=\"http://www.w3.org/2000/svg\" height=\"24px\"viewBox=\"0 0 24 24\"\n",
              "       width=\"24px\">\n",
              "    <path d=\"M0 0h24v24H0V0z\" fill=\"none\"/>\n",
              "    <path d=\"M18.56 5.44l.94 2.06.94-2.06 2.06-.94-2.06-.94-.94-2.06-.94 2.06-2.06.94zm-11 1L8.5 8.5l.94-2.06 2.06-.94-2.06-.94L8.5 2.5l-.94 2.06-2.06.94zm10 10l.94 2.06.94-2.06 2.06-.94-2.06-.94-.94-2.06-.94 2.06-2.06.94z\"/><path d=\"M17.41 7.96l-1.37-1.37c-.4-.4-.92-.59-1.43-.59-.52 0-1.04.2-1.43.59L10.3 9.45l-7.72 7.72c-.78.78-.78 2.05 0 2.83L4 21.41c.39.39.9.59 1.41.59.51 0 1.02-.2 1.41-.59l7.78-7.78 2.81-2.81c.8-.78.8-2.07 0-2.86zM5.41 20L4 18.59l7.72-7.72 1.47 1.35L5.41 20z\"/>\n",
              "  </svg>\n",
              "      </button>\n",
              "      \n",
              "  <style>\n",
              "    .colab-df-container {\n",
              "      display:flex;\n",
              "      flex-wrap:wrap;\n",
              "      gap: 12px;\n",
              "    }\n",
              "\n",
              "    .colab-df-convert {\n",
              "      background-color: #E8F0FE;\n",
              "      border: none;\n",
              "      border-radius: 50%;\n",
              "      cursor: pointer;\n",
              "      display: none;\n",
              "      fill: #1967D2;\n",
              "      height: 32px;\n",
              "      padding: 0 0 0 0;\n",
              "      width: 32px;\n",
              "    }\n",
              "\n",
              "    .colab-df-convert:hover {\n",
              "      background-color: #E2EBFA;\n",
              "      box-shadow: 0px 1px 2px rgba(60, 64, 67, 0.3), 0px 1px 3px 1px rgba(60, 64, 67, 0.15);\n",
              "      fill: #174EA6;\n",
              "    }\n",
              "\n",
              "    [theme=dark] .colab-df-convert {\n",
              "      background-color: #3B4455;\n",
              "      fill: #D2E3FC;\n",
              "    }\n",
              "\n",
              "    [theme=dark] .colab-df-convert:hover {\n",
              "      background-color: #434B5C;\n",
              "      box-shadow: 0px 1px 3px 1px rgba(0, 0, 0, 0.15);\n",
              "      filter: drop-shadow(0px 1px 2px rgba(0, 0, 0, 0.3));\n",
              "      fill: #FFFFFF;\n",
              "    }\n",
              "  </style>\n",
              "\n",
              "      <script>\n",
              "        const buttonEl =\n",
              "          document.querySelector('#df-a533507d-f686-4e4d-99fc-180e5b42b0b7 button.colab-df-convert');\n",
              "        buttonEl.style.display =\n",
              "          google.colab.kernel.accessAllowed ? 'block' : 'none';\n",
              "\n",
              "        async function convertToInteractive(key) {\n",
              "          const element = document.querySelector('#df-a533507d-f686-4e4d-99fc-180e5b42b0b7');\n",
              "          const dataTable =\n",
              "            await google.colab.kernel.invokeFunction('convertToInteractive',\n",
              "                                                     [key], {});\n",
              "          if (!dataTable) return;\n",
              "\n",
              "          const docLinkHtml = 'Like what you see? Visit the ' +\n",
              "            '<a target=\"_blank\" href=https://colab.research.google.com/notebooks/data_table.ipynb>data table notebook</a>'\n",
              "            + ' to learn more about interactive tables.';\n",
              "          element.innerHTML = '';\n",
              "          dataTable['output_type'] = 'display_data';\n",
              "          await google.colab.output.renderOutput(dataTable, element);\n",
              "          const docLink = document.createElement('div');\n",
              "          docLink.innerHTML = docLinkHtml;\n",
              "          element.appendChild(docLink);\n",
              "        }\n",
              "      </script>\n",
              "    </div>\n",
              "  </div>\n",
              "  "
            ]
          },
          "metadata": {}
        }
      ]
    },
    {
      "cell_type": "code",
      "source": [
        "nb_data = detect_objects('/content/drive/MyDrive/N_B-DWU128.mp4', model, classes)\n",
        "\n",
        "df = pd.DataFrame.from_dict(nb_data, orient='index', columns=['Position'])\n",
        "df.index.name = 'Time spent'\n",
        "display(df.reset_index())"
      ],
      "metadata": {
        "colab": {
          "base_uri": "https://localhost:8080/",
          "height": 394
        },
        "id": "cDOXKjcTOXPi",
        "outputId": "1d97f582-6e63-4bf7-ccd8-abaa17ef6060"
      },
      "execution_count": null,
      "outputs": [
        {
          "output_type": "display_data",
          "data": {
            "text/plain": [
              "   Time spent                                  Position\n",
              "0         0.6                             N_B-Left_tilt\n",
              "1         5.0                          N_B-Left_lateral\n",
              "2         9.9                                N_B-Supine\n",
              "3         5.1   N_B-Supine_thorax_with_Left_pelvic_tilt\n",
              "4         0.5                                N_B-Supine\n",
              "5         0.0                                N_B-Supine\n",
              "6         5.6  N_B-Supine_thorax_with_Right_pelvic_tilt\n",
              "7         0.2                                N_B-Supine\n",
              "8         0.1   N_B-Supine_pelvis_with_Left_thorax_tilt\n",
              "9        10.6                                N_B-Supine\n",
              "10       11.6   N_B-Supine_pelvis_with_Left_thorax_tilt"
            ],
            "text/html": [
              "\n",
              "  <div id=\"df-3f96a3a7-4579-4683-87f6-1a5cb5642422\">\n",
              "    <div class=\"colab-df-container\">\n",
              "      <div>\n",
              "<style scoped>\n",
              "    .dataframe tbody tr th:only-of-type {\n",
              "        vertical-align: middle;\n",
              "    }\n",
              "\n",
              "    .dataframe tbody tr th {\n",
              "        vertical-align: top;\n",
              "    }\n",
              "\n",
              "    .dataframe thead th {\n",
              "        text-align: right;\n",
              "    }\n",
              "</style>\n",
              "<table border=\"1\" class=\"dataframe\">\n",
              "  <thead>\n",
              "    <tr style=\"text-align: right;\">\n",
              "      <th></th>\n",
              "      <th>Time spent</th>\n",
              "      <th>Position</th>\n",
              "    </tr>\n",
              "  </thead>\n",
              "  <tbody>\n",
              "    <tr>\n",
              "      <th>0</th>\n",
              "      <td>0.6</td>\n",
              "      <td>N_B-Left_tilt</td>\n",
              "    </tr>\n",
              "    <tr>\n",
              "      <th>1</th>\n",
              "      <td>5.0</td>\n",
              "      <td>N_B-Left_lateral</td>\n",
              "    </tr>\n",
              "    <tr>\n",
              "      <th>2</th>\n",
              "      <td>9.9</td>\n",
              "      <td>N_B-Supine</td>\n",
              "    </tr>\n",
              "    <tr>\n",
              "      <th>3</th>\n",
              "      <td>5.1</td>\n",
              "      <td>N_B-Supine_thorax_with_Left_pelvic_tilt</td>\n",
              "    </tr>\n",
              "    <tr>\n",
              "      <th>4</th>\n",
              "      <td>0.5</td>\n",
              "      <td>N_B-Supine</td>\n",
              "    </tr>\n",
              "    <tr>\n",
              "      <th>5</th>\n",
              "      <td>0.0</td>\n",
              "      <td>N_B-Supine</td>\n",
              "    </tr>\n",
              "    <tr>\n",
              "      <th>6</th>\n",
              "      <td>5.6</td>\n",
              "      <td>N_B-Supine_thorax_with_Right_pelvic_tilt</td>\n",
              "    </tr>\n",
              "    <tr>\n",
              "      <th>7</th>\n",
              "      <td>0.2</td>\n",
              "      <td>N_B-Supine</td>\n",
              "    </tr>\n",
              "    <tr>\n",
              "      <th>8</th>\n",
              "      <td>0.1</td>\n",
              "      <td>N_B-Supine_pelvis_with_Left_thorax_tilt</td>\n",
              "    </tr>\n",
              "    <tr>\n",
              "      <th>9</th>\n",
              "      <td>10.6</td>\n",
              "      <td>N_B-Supine</td>\n",
              "    </tr>\n",
              "    <tr>\n",
              "      <th>10</th>\n",
              "      <td>11.6</td>\n",
              "      <td>N_B-Supine_pelvis_with_Left_thorax_tilt</td>\n",
              "    </tr>\n",
              "  </tbody>\n",
              "</table>\n",
              "</div>\n",
              "      <button class=\"colab-df-convert\" onclick=\"convertToInteractive('df-3f96a3a7-4579-4683-87f6-1a5cb5642422')\"\n",
              "              title=\"Convert this dataframe to an interactive table.\"\n",
              "              style=\"display:none;\">\n",
              "        \n",
              "  <svg xmlns=\"http://www.w3.org/2000/svg\" height=\"24px\"viewBox=\"0 0 24 24\"\n",
              "       width=\"24px\">\n",
              "    <path d=\"M0 0h24v24H0V0z\" fill=\"none\"/>\n",
              "    <path d=\"M18.56 5.44l.94 2.06.94-2.06 2.06-.94-2.06-.94-.94-2.06-.94 2.06-2.06.94zm-11 1L8.5 8.5l.94-2.06 2.06-.94-2.06-.94L8.5 2.5l-.94 2.06-2.06.94zm10 10l.94 2.06.94-2.06 2.06-.94-2.06-.94-.94-2.06-.94 2.06-2.06.94z\"/><path d=\"M17.41 7.96l-1.37-1.37c-.4-.4-.92-.59-1.43-.59-.52 0-1.04.2-1.43.59L10.3 9.45l-7.72 7.72c-.78.78-.78 2.05 0 2.83L4 21.41c.39.39.9.59 1.41.59.51 0 1.02-.2 1.41-.59l7.78-7.78 2.81-2.81c.8-.78.8-2.07 0-2.86zM5.41 20L4 18.59l7.72-7.72 1.47 1.35L5.41 20z\"/>\n",
              "  </svg>\n",
              "      </button>\n",
              "      \n",
              "  <style>\n",
              "    .colab-df-container {\n",
              "      display:flex;\n",
              "      flex-wrap:wrap;\n",
              "      gap: 12px;\n",
              "    }\n",
              "\n",
              "    .colab-df-convert {\n",
              "      background-color: #E8F0FE;\n",
              "      border: none;\n",
              "      border-radius: 50%;\n",
              "      cursor: pointer;\n",
              "      display: none;\n",
              "      fill: #1967D2;\n",
              "      height: 32px;\n",
              "      padding: 0 0 0 0;\n",
              "      width: 32px;\n",
              "    }\n",
              "\n",
              "    .colab-df-convert:hover {\n",
              "      background-color: #E2EBFA;\n",
              "      box-shadow: 0px 1px 2px rgba(60, 64, 67, 0.3), 0px 1px 3px 1px rgba(60, 64, 67, 0.15);\n",
              "      fill: #174EA6;\n",
              "    }\n",
              "\n",
              "    [theme=dark] .colab-df-convert {\n",
              "      background-color: #3B4455;\n",
              "      fill: #D2E3FC;\n",
              "    }\n",
              "\n",
              "    [theme=dark] .colab-df-convert:hover {\n",
              "      background-color: #434B5C;\n",
              "      box-shadow: 0px 1px 3px 1px rgba(0, 0, 0, 0.15);\n",
              "      filter: drop-shadow(0px 1px 2px rgba(0, 0, 0, 0.3));\n",
              "      fill: #FFFFFF;\n",
              "    }\n",
              "  </style>\n",
              "\n",
              "      <script>\n",
              "        const buttonEl =\n",
              "          document.querySelector('#df-3f96a3a7-4579-4683-87f6-1a5cb5642422 button.colab-df-convert');\n",
              "        buttonEl.style.display =\n",
              "          google.colab.kernel.accessAllowed ? 'block' : 'none';\n",
              "\n",
              "        async function convertToInteractive(key) {\n",
              "          const element = document.querySelector('#df-3f96a3a7-4579-4683-87f6-1a5cb5642422');\n",
              "          const dataTable =\n",
              "            await google.colab.kernel.invokeFunction('convertToInteractive',\n",
              "                                                     [key], {});\n",
              "          if (!dataTable) return;\n",
              "\n",
              "          const docLinkHtml = 'Like what you see? Visit the ' +\n",
              "            '<a target=\"_blank\" href=https://colab.research.google.com/notebooks/data_table.ipynb>data table notebook</a>'\n",
              "            + ' to learn more about interactive tables.';\n",
              "          element.innerHTML = '';\n",
              "          dataTable['output_type'] = 'display_data';\n",
              "          await google.colab.output.renderOutput(dataTable, element);\n",
              "          const docLink = document.createElement('div');\n",
              "          docLink.innerHTML = docLinkHtml;\n",
              "          element.appendChild(docLink);\n",
              "        }\n",
              "      </script>\n",
              "    </div>\n",
              "  </div>\n",
              "  "
            ]
          },
          "metadata": {}
        }
      ]
    }
  ],
  "metadata": {
    "accelerator": "GPU",
    "colab": {
      "background_execution": "on",
      "collapsed_sections": [],
      "machine_shape": "hm",
      "name": "SBI-YOLO-Pytorch.ipynb",
      "provenance": [],
      "mount_file_id": "1ZJ9n-buiiNINIFUseUKUJDVWZttXG85q",
      "authorship_tag": "ABX9TyPk+qedfuweEMDT2aDEL5r4",
      "include_colab_link": true
    },
    "kernelspec": {
      "display_name": "Python 3",
      "name": "python3"
    },
    "language_info": {
      "name": "python"
    },
    "gpuClass": "standard"
  },
  "nbformat": 4,
  "nbformat_minor": 0
}